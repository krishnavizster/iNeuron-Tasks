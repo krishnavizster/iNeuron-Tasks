{
  "nbformat": 4,
  "nbformat_minor": 0,
  "metadata": {
    "colab": {
      "provenance": [],
      "collapsed_sections": []
    },
    "kernelspec": {
      "name": "python3",
      "display_name": "Python 3"
    },
    "language_info": {
      "name": "python"
    }
  },
  "cells": [
    {
      "cell_type": "code",
      "execution_count": 1,
      "metadata": {
        "id": "EvA0djq8xXDI"
      },
      "outputs": [],
      "source": [
        "import tensorflow as tf\n",
        "from tensorflow import keras\n",
        "import keras\n",
        "from keras.models import Sequential\n",
        "from keras.layers import Dense, Activation, Dropout, Flatten, Conv2D, MaxPooling2D\n",
        "from tensorflow.keras.layers import BatchNormalization"
      ]
    },
    {
      "cell_type": "code",
      "source": [
        "!pip install tflearn "
      ],
      "metadata": {
        "colab": {
          "base_uri": "https://localhost:8080/"
        },
        "id": "-FyyI1DkxjoM",
        "outputId": "a5f7052f-4388-4ebb-a9cb-3359588bcee6"
      },
      "execution_count": 2,
      "outputs": [
        {
          "output_type": "stream",
          "name": "stdout",
          "text": [
            "Looking in indexes: https://pypi.org/simple, https://us-python.pkg.dev/colab-wheels/public/simple/\n",
            "Collecting tflearn\n",
            "  Downloading tflearn-0.5.0.tar.gz (107 kB)\n",
            "\u001b[?25l\r\u001b[K     |███                             | 10 kB 32.7 MB/s eta 0:00:01\r\u001b[K     |██████                          | 20 kB 43.7 MB/s eta 0:00:01\r\u001b[K     |█████████▏                      | 30 kB 53.7 MB/s eta 0:00:01\r\u001b[K     |████████████▏                   | 40 kB 18.8 MB/s eta 0:00:01\r\u001b[K     |███████████████▎                | 51 kB 22.2 MB/s eta 0:00:01\r\u001b[K     |██████████████████▎             | 61 kB 25.6 MB/s eta 0:00:01\r\u001b[K     |█████████████████████▍          | 71 kB 23.6 MB/s eta 0:00:01\r\u001b[K     |████████████████████████▍       | 81 kB 25.9 MB/s eta 0:00:01\r\u001b[K     |███████████████████████████▌    | 92 kB 27.8 MB/s eta 0:00:01\r\u001b[K     |██████████████████████████████▌ | 102 kB 29.7 MB/s eta 0:00:01\r\u001b[K     |████████████████████████████████| 107 kB 29.7 MB/s \n",
            "\u001b[?25hRequirement already satisfied: numpy in /usr/local/lib/python3.7/dist-packages (from tflearn) (1.21.6)\n",
            "Requirement already satisfied: six in /usr/local/lib/python3.7/dist-packages (from tflearn) (1.15.0)\n",
            "Requirement already satisfied: Pillow in /usr/local/lib/python3.7/dist-packages (from tflearn) (7.1.2)\n",
            "Building wheels for collected packages: tflearn\n",
            "  Building wheel for tflearn (setup.py) ... \u001b[?25l\u001b[?25hdone\n",
            "  Created wheel for tflearn: filename=tflearn-0.5.0-py3-none-any.whl size=127299 sha256=fcd1479fb7dbe4d0b8a3b66dbb02595516bd6de283352e976b0ad65153bdf962\n",
            "  Stored in directory: /root/.cache/pip/wheels/5f/14/2e/1d8e28cc47a5a931a2fb82438c9e37ef9246cc6a3774520271\n",
            "Successfully built tflearn\n",
            "Installing collected packages: tflearn\n",
            "Successfully installed tflearn-0.5.0\n"
          ]
        }
      ]
    },
    {
      "cell_type": "code",
      "source": [
        "# Get Data\n",
        "import tflearn.datasets.oxflower17 as oxflower17\n",
        "x, y = oxflower17.load_data(one_hot=True)"
      ],
      "metadata": {
        "colab": {
          "base_uri": "https://localhost:8080/"
        },
        "id": "ApsV6MEZxjli",
        "outputId": "817aa5ce-bee6-4f98-a33c-294ada7317ed"
      },
      "execution_count": 3,
      "outputs": [
        {
          "output_type": "stream",
          "name": "stderr",
          "text": [
            "WARNING:tensorflow:From /usr/local/lib/python3.7/dist-packages/tensorflow/python/compat/v2_compat.py:107: disable_resource_variables (from tensorflow.python.ops.variable_scope) is deprecated and will be removed in a future version.\n",
            "Instructions for updating:\n",
            "non-resource variables are not supported in the long term\n"
          ]
        },
        {
          "output_type": "stream",
          "name": "stdout",
          "text": [
            "Downloading Oxford 17 category Flower Dataset, Please wait...\n"
          ]
        },
        {
          "output_type": "stream",
          "name": "stderr",
          "text": [
            "100.0% 60276736 / 60270631\n"
          ]
        },
        {
          "output_type": "stream",
          "name": "stdout",
          "text": [
            "Succesfully downloaded 17flowers.tgz 60270631 bytes.\n",
            "File Extracted\n",
            "Starting to parse images...\n",
            "Parsing Done!\n"
          ]
        }
      ]
    },
    {
      "cell_type": "code",
      "source": [
        "x"
      ],
      "metadata": {
        "colab": {
          "base_uri": "https://localhost:8080/"
        },
        "id": "huhcOmOjxjjE",
        "outputId": "d9712d9f-c1e2-4dac-9dec-da1bf780354d"
      },
      "execution_count": 4,
      "outputs": [
        {
          "output_type": "execute_result",
          "data": {
            "text/plain": [
              "array([[[[0.6627451 , 0.6039216 , 0.64705884],\n",
              "         [0.6745098 , 0.6       , 0.6784314 ],\n",
              "         [0.67058825, 0.5764706 , 0.69803923],\n",
              "         ...,\n",
              "         [0.01960784, 0.05490196, 0.        ],\n",
              "         [0.01960784, 0.05098039, 0.00784314],\n",
              "         [0.01960784, 0.05098039, 0.00784314]],\n",
              "\n",
              "        [[0.627451  , 0.5882353 , 0.6666667 ],\n",
              "         [0.62352943, 0.56078434, 0.68235296],\n",
              "         [0.6       , 0.5058824 , 0.69411767],\n",
              "         ...,\n",
              "         [0.02352941, 0.05490196, 0.        ],\n",
              "         [0.01960784, 0.05098039, 0.00784314],\n",
              "         [0.01960784, 0.05098039, 0.00784314]],\n",
              "\n",
              "        [[0.5764706 , 0.58431375, 0.56078434],\n",
              "         [0.5686275 , 0.54509807, 0.5882353 ],\n",
              "         [0.5294118 , 0.4627451 , 0.6       ],\n",
              "         ...,\n",
              "         [0.02745098, 0.04705882, 0.        ],\n",
              "         [0.02352941, 0.05098039, 0.00784314],\n",
              "         [0.02352941, 0.05490196, 0.01176471]],\n",
              "\n",
              "        ...,\n",
              "\n",
              "        [[0.07058824, 0.16470589, 0.03529412],\n",
              "         [0.07058824, 0.16078432, 0.04705882],\n",
              "         [0.07450981, 0.16470589, 0.05490196],\n",
              "         ...,\n",
              "         [0.03529412, 0.11764706, 0.00784314],\n",
              "         [0.03529412, 0.10980392, 0.01960784],\n",
              "         [0.03921569, 0.10980392, 0.02352941]],\n",
              "\n",
              "        [[0.07450981, 0.16862746, 0.03529412],\n",
              "         [0.07843138, 0.17254902, 0.04705882],\n",
              "         [0.07450981, 0.16470589, 0.05490196],\n",
              "         ...,\n",
              "         [0.04705882, 0.12156863, 0.01568628],\n",
              "         [0.04313726, 0.11764706, 0.02352941],\n",
              "         [0.04313726, 0.12156863, 0.02745098]],\n",
              "\n",
              "        [[0.09019608, 0.18431373, 0.05098039],\n",
              "         [0.10588235, 0.2       , 0.07450981],\n",
              "         [0.10196079, 0.19215687, 0.07843138],\n",
              "         ...,\n",
              "         [0.05882353, 0.12941177, 0.01960784],\n",
              "         [0.05490196, 0.13333334, 0.03137255],\n",
              "         [0.05490196, 0.13333334, 0.03529412]]],\n",
              "\n",
              "\n",
              "       [[[0.4745098 , 0.5686275 , 0.58431375],\n",
              "         [0.4627451 , 0.54509807, 0.56078434],\n",
              "         [0.43529412, 0.49411765, 0.4745098 ],\n",
              "         ...,\n",
              "         [0.01176471, 0.03921569, 0.00784314],\n",
              "         [0.01176471, 0.03921569, 0.00784314],\n",
              "         [0.01568628, 0.04313726, 0.01176471]],\n",
              "\n",
              "        [[0.44313726, 0.53333336, 0.53333336],\n",
              "         [0.41960785, 0.49803922, 0.4862745 ],\n",
              "         [0.38431373, 0.44313726, 0.39215687],\n",
              "         ...,\n",
              "         [0.01176471, 0.03921569, 0.00784314],\n",
              "         [0.01176471, 0.03921569, 0.00784314],\n",
              "         [0.01176471, 0.03921569, 0.00784314]],\n",
              "\n",
              "        [[0.4117647 , 0.5019608 , 0.45882353],\n",
              "         [0.3764706 , 0.4627451 , 0.4       ],\n",
              "         [0.3529412 , 0.42745098, 0.3137255 ],\n",
              "         ...,\n",
              "         [0.01176471, 0.03921569, 0.00784314],\n",
              "         [0.01176471, 0.03921569, 0.00784314],\n",
              "         [0.01176471, 0.03921569, 0.00784314]],\n",
              "\n",
              "        ...,\n",
              "\n",
              "        [[0.09019608, 0.02352941, 0.        ],\n",
              "         [0.11764706, 0.05098039, 0.00392157],\n",
              "         [0.12156863, 0.06666667, 0.01176471],\n",
              "         ...,\n",
              "         [0.2901961 , 0.38039216, 0.11764706],\n",
              "         [0.2901961 , 0.38039216, 0.11372549],\n",
              "         [0.2901961 , 0.38039216, 0.11372549]],\n",
              "\n",
              "        [[0.02352941, 0.01568628, 0.01176471],\n",
              "         [0.04705882, 0.01960784, 0.00784314],\n",
              "         [0.06666667, 0.03137255, 0.01176471],\n",
              "         ...,\n",
              "         [0.2901961 , 0.38039216, 0.11372549],\n",
              "         [0.29803923, 0.3882353 , 0.12156863],\n",
              "         [0.30980393, 0.4       , 0.13333334]],\n",
              "\n",
              "        [[0.01960784, 0.03137255, 0.02352941],\n",
              "         [0.03137255, 0.01568628, 0.01176471],\n",
              "         [0.04705882, 0.01960784, 0.00784314],\n",
              "         ...,\n",
              "         [0.2901961 , 0.38039216, 0.11764706],\n",
              "         [0.3019608 , 0.39215687, 0.1254902 ],\n",
              "         [0.32941177, 0.41960785, 0.15294118]]],\n",
              "\n",
              "\n",
              "       [[[0.3882353 , 0.28627452, 0.23529412],\n",
              "         [0.39215687, 0.2901961 , 0.23921569],\n",
              "         [0.39607844, 0.29411766, 0.24313726],\n",
              "         ...,\n",
              "         [0.29411766, 0.20784314, 0.16470589],\n",
              "         [0.29411766, 0.20784314, 0.16470589],\n",
              "         [0.29411766, 0.20784314, 0.16470589]],\n",
              "\n",
              "        [[0.39215687, 0.2901961 , 0.23921569],\n",
              "         [0.39607844, 0.29411766, 0.24313726],\n",
              "         [0.4       , 0.29803923, 0.24705882],\n",
              "         ...,\n",
              "         [0.29803923, 0.21176471, 0.16862746],\n",
              "         [0.29803923, 0.21176471, 0.16862746],\n",
              "         [0.29803923, 0.21176471, 0.16862746]],\n",
              "\n",
              "        [[0.40392157, 0.3019608 , 0.2509804 ],\n",
              "         [0.40392157, 0.3019608 , 0.2509804 ],\n",
              "         [0.40392157, 0.3019608 , 0.2509804 ],\n",
              "         ...,\n",
              "         [0.30980393, 0.22352941, 0.18039216],\n",
              "         [0.30588236, 0.21960784, 0.1764706 ],\n",
              "         [0.30588236, 0.21960784, 0.1764706 ]],\n",
              "\n",
              "        ...,\n",
              "\n",
              "        [[0.19607843, 0.07058824, 0.02745098],\n",
              "         [0.19607843, 0.07058824, 0.02745098],\n",
              "         [0.19607843, 0.07058824, 0.02745098],\n",
              "         ...,\n",
              "         [0.12941177, 0.00392157, 0.        ],\n",
              "         [0.13333334, 0.00392157, 0.        ],\n",
              "         [0.13725491, 0.00392157, 0.        ]],\n",
              "\n",
              "        [[0.18431373, 0.05882353, 0.01568628],\n",
              "         [0.1882353 , 0.0627451 , 0.01960784],\n",
              "         [0.19215687, 0.06666667, 0.02352941],\n",
              "         ...,\n",
              "         [0.13725491, 0.        , 0.        ],\n",
              "         [0.14117648, 0.00784314, 0.        ],\n",
              "         [0.14117648, 0.00784314, 0.        ]],\n",
              "\n",
              "        [[0.18431373, 0.05882353, 0.01568628],\n",
              "         [0.1882353 , 0.0627451 , 0.01960784],\n",
              "         [0.19215687, 0.06666667, 0.02352941],\n",
              "         ...,\n",
              "         [0.14901961, 0.01176471, 0.00392157],\n",
              "         [0.14901961, 0.01960784, 0.        ],\n",
              "         [0.14901961, 0.01960784, 0.        ]]],\n",
              "\n",
              "\n",
              "       ...,\n",
              "\n",
              "\n",
              "       [[[0.49411765, 0.61960787, 0.827451  ],\n",
              "         [0.34901962, 0.47058824, 0.6039216 ],\n",
              "         [0.2784314 , 0.40784314, 0.39607844],\n",
              "         ...,\n",
              "         [0.41960785, 0.44313726, 0.7019608 ],\n",
              "         [0.34901962, 0.4117647 , 0.56078434],\n",
              "         [0.31764707, 0.40392157, 0.4627451 ]],\n",
              "\n",
              "        [[0.43529412, 0.5647059 , 0.7176471 ],\n",
              "         [0.3254902 , 0.4509804 , 0.5411765 ],\n",
              "         [0.27058825, 0.4       , 0.37254903],\n",
              "         ...,\n",
              "         [0.37254903, 0.39215687, 0.64705884],\n",
              "         [0.3372549 , 0.4       , 0.54901963],\n",
              "         [0.29803923, 0.38039216, 0.4509804 ]],\n",
              "\n",
              "        [[0.38431373, 0.52156866, 0.5764706 ],\n",
              "         [0.32156864, 0.45882353, 0.4745098 ],\n",
              "         [0.27450982, 0.40784314, 0.34901962],\n",
              "         ...,\n",
              "         [0.3372549 , 0.3529412 , 0.6156863 ],\n",
              "         [0.32156864, 0.3764706 , 0.5372549 ],\n",
              "         [0.28627452, 0.36862746, 0.45490196]],\n",
              "\n",
              "        ...,\n",
              "\n",
              "        [[0.24313726, 0.41568628, 0.05098039],\n",
              "         [0.20392157, 0.36862746, 0.04705882],\n",
              "         [0.14901961, 0.32156864, 0.02352941],\n",
              "         ...,\n",
              "         [0.32156864, 0.5294118 , 0.1882353 ],\n",
              "         [0.30980393, 0.5176471 , 0.16862746],\n",
              "         [0.2784314 , 0.4862745 , 0.13725491]],\n",
              "\n",
              "        [[0.23137255, 0.39215687, 0.04313726],\n",
              "         [0.27058825, 0.43137255, 0.10196079],\n",
              "         [0.24705882, 0.42352942, 0.09803922],\n",
              "         ...,\n",
              "         [0.32941177, 0.5372549 , 0.18431373],\n",
              "         [0.3372549 , 0.5411765 , 0.21176471],\n",
              "         [0.3254902 , 0.5176471 , 0.20392157]],\n",
              "\n",
              "        [[0.23137255, 0.3882353 , 0.04313726],\n",
              "         [0.21960784, 0.38431373, 0.04705882],\n",
              "         [0.30588236, 0.47843137, 0.14509805],\n",
              "         ...,\n",
              "         [0.32156864, 0.53333336, 0.1764706 ],\n",
              "         [0.3529412 , 0.5529412 , 0.22745098],\n",
              "         [0.35686275, 0.54509807, 0.24705882]]],\n",
              "\n",
              "\n",
              "       [[[0.25882354, 0.42352942, 0.27450982],\n",
              "         [0.24705882, 0.40784314, 0.2627451 ],\n",
              "         [0.2627451 , 0.41568628, 0.27450982],\n",
              "         ...,\n",
              "         [0.38039216, 0.5294118 , 0.29803923],\n",
              "         [0.38431373, 0.53333336, 0.3019608 ],\n",
              "         [0.3764706 , 0.5254902 , 0.29411766]],\n",
              "\n",
              "        [[0.24313726, 0.39215687, 0.23137255],\n",
              "         [0.2784314 , 0.41960785, 0.26666668],\n",
              "         [0.29411766, 0.44313726, 0.29411766],\n",
              "         ...,\n",
              "         [0.39215687, 0.5372549 , 0.29803923],\n",
              "         [0.3764706 , 0.52156866, 0.28235295],\n",
              "         [0.38039216, 0.5294118 , 0.2901961 ]],\n",
              "\n",
              "        [[0.25490198, 0.36862746, 0.20784314],\n",
              "         [0.24705882, 0.36862746, 0.20784314],\n",
              "         [0.27450982, 0.40784314, 0.25490198],\n",
              "         ...,\n",
              "         [0.43137255, 0.57254905, 0.32156864],\n",
              "         [0.4       , 0.5411765 , 0.2901961 ],\n",
              "         [0.42352942, 0.5647059 , 0.3137255 ]],\n",
              "\n",
              "        ...,\n",
              "\n",
              "        [[0.3019608 , 0.46666667, 0.18431373],\n",
              "         [0.29411766, 0.45882353, 0.18039216],\n",
              "         [0.29411766, 0.45490196, 0.18431373],\n",
              "         ...,\n",
              "         [0.32156864, 0.44313726, 0.19215687],\n",
              "         [0.29803923, 0.41960785, 0.2       ],\n",
              "         [0.19607843, 0.3137255 , 0.12941177]],\n",
              "\n",
              "        [[0.2901961 , 0.45882353, 0.1764706 ],\n",
              "         [0.28627452, 0.45490196, 0.17254902],\n",
              "         [0.28235295, 0.44705883, 0.16470589],\n",
              "         ...,\n",
              "         [0.30980393, 0.44313726, 0.20392157],\n",
              "         [0.3137255 , 0.44705883, 0.21176471],\n",
              "         [0.2901961 , 0.42352942, 0.19607843]],\n",
              "\n",
              "        [[0.28627452, 0.45490196, 0.17254902],\n",
              "         [0.28627452, 0.45490196, 0.17254902],\n",
              "         [0.2784314 , 0.44313726, 0.16078432],\n",
              "         ...,\n",
              "         [0.30588236, 0.4392157 , 0.20392157],\n",
              "         [0.29411766, 0.42745098, 0.19215687],\n",
              "         [0.32156864, 0.45490196, 0.21960784]]],\n",
              "\n",
              "\n",
              "       [[[0.5764706 , 0.7176471 , 0.45490196],\n",
              "         [0.6156863 , 0.7607843 , 0.5019608 ],\n",
              "         [0.6392157 , 0.7882353 , 0.5372549 ],\n",
              "         ...,\n",
              "         [0.5764706 , 0.7058824 , 0.5176471 ],\n",
              "         [0.54509807, 0.6862745 , 0.48235294],\n",
              "         [0.44313726, 0.6       , 0.3882353 ]],\n",
              "\n",
              "        [[0.5529412 , 0.69803923, 0.43529412],\n",
              "         [0.59607846, 0.7411765 , 0.4745098 ],\n",
              "         [0.61960787, 0.76862746, 0.50980395],\n",
              "         ...,\n",
              "         [0.5686275 , 0.6862745 , 0.50980395],\n",
              "         [0.49019608, 0.60784316, 0.42352942],\n",
              "         [0.36078432, 0.4862745 , 0.30588236]],\n",
              "\n",
              "        [[0.5686275 , 0.70980394, 0.44313726],\n",
              "         [0.58431375, 0.7294118 , 0.45882353],\n",
              "         [0.6039216 , 0.7529412 , 0.49019608],\n",
              "         ...,\n",
              "         [0.5137255 , 0.60784316, 0.4509804 ],\n",
              "         [0.31764707, 0.4       , 0.2509804 ],\n",
              "         [0.25882354, 0.3254902 , 0.19607843]],\n",
              "\n",
              "        ...,\n",
              "\n",
              "        [[0.6313726 , 0.6392157 , 0.5803922 ],\n",
              "         [0.31764707, 0.3254902 , 0.25882354],\n",
              "         [0.4745098 , 0.49019608, 0.40392157],\n",
              "         ...,\n",
              "         [0.4392157 , 0.5686275 , 0.3137255 ],\n",
              "         [0.45882353, 0.6039216 , 0.37254903],\n",
              "         [0.43137255, 0.5803922 , 0.37254903]],\n",
              "\n",
              "        [[0.69411767, 0.69803923, 0.6313726 ],\n",
              "         [0.43137255, 0.44313726, 0.35686275],\n",
              "         [0.5882353 , 0.60784316, 0.49803922],\n",
              "         ...,\n",
              "         [0.4509804 , 0.5882353 , 0.32941177],\n",
              "         [0.49019608, 0.63529414, 0.4       ],\n",
              "         [0.43137255, 0.58431375, 0.36862746]],\n",
              "\n",
              "        [[0.69411767, 0.7019608 , 0.62352943],\n",
              "         [0.45490196, 0.4627451 , 0.36862746],\n",
              "         [0.58431375, 0.6117647 , 0.47843137],\n",
              "         ...,\n",
              "         [0.43529412, 0.5568628 , 0.31764707],\n",
              "         [0.48235294, 0.61960787, 0.3882353 ],\n",
              "         [0.4392157 , 0.58431375, 0.35686275]]]], dtype=float32)"
            ]
          },
          "metadata": {},
          "execution_count": 4
        }
      ]
    },
    {
      "cell_type": "code",
      "source": [
        "y"
      ],
      "metadata": {
        "colab": {
          "base_uri": "https://localhost:8080/"
        },
        "id": "K8X2ppV2xjfM",
        "outputId": "cb22f767-a8ce-422c-e8cb-cef9fc7f02ce"
      },
      "execution_count": 5,
      "outputs": [
        {
          "output_type": "execute_result",
          "data": {
            "text/plain": [
              "array([[0., 0., 0., ..., 0., 0., 0.],\n",
              "       [0., 0., 0., ..., 0., 0., 0.],\n",
              "       [0., 1., 0., ..., 0., 0., 0.],\n",
              "       ...,\n",
              "       [0., 0., 0., ..., 0., 0., 0.],\n",
              "       [0., 0., 0., ..., 0., 0., 0.],\n",
              "       [0., 0., 0., ..., 0., 0., 0.]])"
            ]
          },
          "metadata": {},
          "execution_count": 5
        }
      ]
    },
    {
      "cell_type": "code",
      "source": [
        "x.shape"
      ],
      "metadata": {
        "colab": {
          "base_uri": "https://localhost:8080/"
        },
        "id": "iiT2QYxdx-zh",
        "outputId": "d8ab947f-ebdb-4c15-a35d-26e3f54ce820"
      },
      "execution_count": 6,
      "outputs": [
        {
          "output_type": "execute_result",
          "data": {
            "text/plain": [
              "(1360, 224, 224, 3)"
            ]
          },
          "metadata": {},
          "execution_count": 6
        }
      ]
    },
    {
      "cell_type": "code",
      "source": [
        "y.shape"
      ],
      "metadata": {
        "colab": {
          "base_uri": "https://localhost:8080/"
        },
        "id": "9QeAw1jyUG8Q",
        "outputId": "8e96bad3-9591-4acb-9232-f8226771b59a"
      },
      "execution_count": 14,
      "outputs": [
        {
          "output_type": "execute_result",
          "data": {
            "text/plain": [
              "(1360, 17)"
            ]
          },
          "metadata": {},
          "execution_count": 14
        }
      ]
    },
    {
      "cell_type": "code",
      "source": [
        "# Create a sequential model\n",
        "model = Sequential()\n",
        "\n",
        "# 1st Convolutional Layer\n",
        "model.add(Conv2D(filters=96, input_shape=(224,224,3), kernel_size=(11,11), strides=(4,4), padding='valid'))\n",
        "model.add(Activation('relu'))\n",
        "\n",
        "# Pooling \n",
        "model.add(MaxPooling2D(pool_size=(3,3), strides=(2,2), padding='valid'))\n",
        "# Batch Normalisation before passing it to the next layer\n",
        "model.add(BatchNormalization())\n",
        "\n",
        "# 2nd Convolutional Layer\n",
        "model.add(Conv2D(filters=256, kernel_size=(5,5), strides=(1,1), padding='same'))\n",
        "model.add(Activation('relu'))\n",
        "\n",
        "# Pooling\n",
        "model.add(MaxPooling2D(pool_size=(3,3), strides=(2,2), padding='valid'))\n",
        "# Batch Normalisation\n",
        "model.add(BatchNormalization())\n",
        "\n",
        "\n",
        "\n",
        "# 3rd Convolutional Layer\n",
        "model.add(Conv2D(filters=384, kernel_size=(3,3), strides=(1,1), padding='valid'))\n",
        "model.add(Activation('relu'))\n",
        "# Batch Normalisation\n",
        "model.add(BatchNormalization())\n",
        "\n",
        "# 4th Convolutional Layer\n",
        "model.add(Conv2D(filters=384, kernel_size=(3,3), strides=(1,1), padding='valid'))\n",
        "model.add(Activation('relu'))\n",
        "# Batch Normalisation\n",
        "model.add(BatchNormalization())\n",
        "\n",
        "\n",
        "# 5th Convolutional Layer\n",
        "model.add(Conv2D(filters=256, kernel_size=(3,3), strides=(1,1), padding='valid'))\n",
        "model.add(Activation('relu'))\n",
        "\n",
        "\n",
        "# Pooling\n",
        "model.add(MaxPooling2D(pool_size=(3,3), strides=(2,2), padding='valid'))\n",
        "# Batch Normalisation\n",
        "model.add(BatchNormalization())\n",
        "\n",
        "\n",
        "# Passing it to a dense layer\n",
        "model.add(Flatten())\n",
        "\n",
        "# 1st Dense Layer\n",
        "model.add(Dense(4096, input_shape=(224*224*3,)))\n",
        "model.add(Activation('relu'))\n",
        "# Add Dropout to prevent overfitting\n",
        "model.add(Dropout(0.4))\n",
        "# Batch Normalisation\n",
        "model.add(BatchNormalization())\n",
        "\n",
        "# 2nd Dense Layer\n",
        "model.add(Dense(4096))\n",
        "model.add(Activation('relu'))\n",
        "# Add Dropout\n",
        "model.add(Dropout(0.6))\n",
        "# Batch Normalisation\n",
        "model.add(BatchNormalization())\n",
        "\n",
        "# Output Layer\n",
        "model.add(Dense(17))\n",
        "model.add(Activation('softmax'))\n",
        "\n",
        "model.summary()"
      ],
      "metadata": {
        "colab": {
          "base_uri": "https://localhost:8080/"
        },
        "id": "njRpW7YYx-xA",
        "outputId": "39924371-53ee-4a89-d893-150a8d15fb95"
      },
      "execution_count": 18,
      "outputs": [
        {
          "output_type": "stream",
          "name": "stderr",
          "text": [
            "WARNING:tensorflow:From /usr/local/lib/python3.7/dist-packages/keras/layers/normalization/batch_normalization.py:532: _colocate_with (from tensorflow.python.framework.ops) is deprecated and will be removed in a future version.\n",
            "Instructions for updating:\n",
            "Colocations handled automatically by placer.\n"
          ]
        },
        {
          "output_type": "stream",
          "name": "stdout",
          "text": [
            "Model: \"sequential_2\"\n",
            "_________________________________________________________________\n",
            " Layer (type)                Output Shape              Param #   \n",
            "=================================================================\n",
            " conv2d_10 (Conv2D)          (None, 54, 54, 96)        34944     \n",
            "                                                                 \n",
            " activation (Activation)     (None, 54, 54, 96)        0         \n",
            "                                                                 \n",
            " max_pooling2d_4 (MaxPooling  (None, 26, 26, 96)       0         \n",
            " 2D)                                                             \n",
            "                                                                 \n",
            " batch_normalization (BatchN  (None, 26, 26, 96)       384       \n",
            " ormalization)                                                   \n",
            "                                                                 \n",
            " conv2d_11 (Conv2D)          (None, 26, 26, 256)       614656    \n",
            "                                                                 \n",
            " activation_1 (Activation)   (None, 26, 26, 256)       0         \n",
            "                                                                 \n",
            " max_pooling2d_5 (MaxPooling  (None, 12, 12, 256)      0         \n",
            " 2D)                                                             \n",
            "                                                                 \n",
            " batch_normalization_1 (Batc  (None, 12, 12, 256)      1024      \n",
            " hNormalization)                                                 \n",
            "                                                                 \n",
            " conv2d_12 (Conv2D)          (None, 10, 10, 384)       885120    \n",
            "                                                                 \n",
            " activation_2 (Activation)   (None, 10, 10, 384)       0         \n",
            "                                                                 \n",
            " batch_normalization_2 (Batc  (None, 10, 10, 384)      1536      \n",
            " hNormalization)                                                 \n",
            "                                                                 \n",
            " conv2d_13 (Conv2D)          (None, 8, 8, 384)         1327488   \n",
            "                                                                 \n",
            " activation_3 (Activation)   (None, 8, 8, 384)         0         \n",
            "                                                                 \n",
            " batch_normalization_3 (Batc  (None, 8, 8, 384)        1536      \n",
            " hNormalization)                                                 \n",
            "                                                                 \n",
            " conv2d_14 (Conv2D)          (None, 6, 6, 256)         884992    \n",
            "                                                                 \n",
            " activation_4 (Activation)   (None, 6, 6, 256)         0         \n",
            "                                                                 \n",
            " max_pooling2d_6 (MaxPooling  (None, 2, 2, 256)        0         \n",
            " 2D)                                                             \n",
            "                                                                 \n",
            " batch_normalization_4 (Batc  (None, 2, 2, 256)        1024      \n",
            " hNormalization)                                                 \n",
            "                                                                 \n",
            " flatten_2 (Flatten)         (None, 1024)              0         \n",
            "                                                                 \n",
            " dense_6 (Dense)             (None, 4096)              4198400   \n",
            "                                                                 \n",
            " activation_5 (Activation)   (None, 4096)              0         \n",
            "                                                                 \n",
            " dropout_4 (Dropout)         (None, 4096)              0         \n",
            "                                                                 \n",
            " batch_normalization_5 (Batc  (None, 4096)             16384     \n",
            " hNormalization)                                                 \n",
            "                                                                 \n",
            " dense_7 (Dense)             (None, 4096)              16781312  \n",
            "                                                                 \n",
            " activation_6 (Activation)   (None, 4096)              0         \n",
            "                                                                 \n",
            " dropout_5 (Dropout)         (None, 4096)              0         \n",
            "                                                                 \n",
            " batch_normalization_6 (Batc  (None, 4096)             16384     \n",
            " hNormalization)                                                 \n",
            "                                                                 \n",
            " dense_8 (Dense)             (None, 17)                69649     \n",
            "                                                                 \n",
            " activation_7 (Activation)   (None, 17)                0         \n",
            "                                                                 \n",
            "=================================================================\n",
            "Total params: 24,834,833\n",
            "Trainable params: 24,815,697\n",
            "Non-trainable params: 19,136\n",
            "_________________________________________________________________\n"
          ]
        }
      ]
    },
    {
      "cell_type": "code",
      "source": [
        "# Compile \n",
        "opt = tf.optimizers.Adam(learning_rate = 0.05)\n",
        "model.compile(loss='categorical_crossentropy', optimizer=opt, metrics=['accuracy'])"
      ],
      "metadata": {
        "id": "uIIQsZ2Cx-t6"
      },
      "execution_count": 19,
      "outputs": []
    },
    {
      "cell_type": "code",
      "source": [
        "# Train\n",
        "model.fit(x, y, batch_size=84, epochs=5, verbose=1,validation_split=0.2, shuffle=True)"
      ],
      "metadata": {
        "colab": {
          "base_uri": "https://localhost:8080/"
        },
        "id": "s6u4gu5Bx-rB",
        "outputId": "10cd4c78-7a50-46eb-d582-92925fee83b7"
      },
      "execution_count": 20,
      "outputs": [
        {
          "output_type": "stream",
          "name": "stdout",
          "text": [
            "Train on 1088 samples, validate on 272 samples\n",
            "Epoch 1/5\n",
            "1088/1088 [==============================] - ETA: 0s - loss: 23.6651 - acc: 0.1241"
          ]
        },
        {
          "output_type": "stream",
          "name": "stderr",
          "text": [
            "/usr/local/lib/python3.7/dist-packages/keras/engine/training_v1.py:2057: UserWarning: `Model.state_updates` will be removed in a future version. This property should not be used in TensorFlow 2.0, as `updates` are applied automatically.\n",
            "  updates = self.state_updates\n"
          ]
        },
        {
          "output_type": "stream",
          "name": "stdout",
          "text": [
            "\b\b\b\b\b\b\b\b\b\b\b\b\b\b\b\b\b\b\b\b\b\b\b\b\b\b\b\b\b\b\b\b\b\b\b\b\b\b\b\b\b\b\b\b\b\b\b\b\b\b\b\b\b\b\b\b\b\b\b\b\b\b\b\b\b\b\b\b\b\b\b\b\b\b\b\b\b\b\b\b\b\b\r1088/1088 [==============================] - 70s 64ms/sample - loss: 23.6651 - acc: 0.1241 - val_loss: 4437847.6213 - val_acc: 0.0956\n",
            "Epoch 2/5\n",
            "1088/1088 [==============================] - 68s 63ms/sample - loss: 18.0621 - acc: 0.1801 - val_loss: 219801.3408 - val_acc: 0.0956\n",
            "Epoch 3/5\n",
            "1088/1088 [==============================] - 68s 63ms/sample - loss: 14.3062 - acc: 0.2169 - val_loss: 227270.6985 - val_acc: 0.0956\n",
            "Epoch 4/5\n",
            "1088/1088 [==============================] - 69s 63ms/sample - loss: 12.8956 - acc: 0.1461 - val_loss: 101264.2991 - val_acc: 0.0478\n",
            "Epoch 5/5\n",
            "1088/1088 [==============================] - 69s 64ms/sample - loss: 10.8020 - acc: 0.1581 - val_loss: 112004.6928 - val_acc: 0.0478\n"
          ]
        },
        {
          "output_type": "execute_result",
          "data": {
            "text/plain": [
              "<keras.callbacks.History at 0x7fe3c06cbd90>"
            ]
          },
          "metadata": {},
          "execution_count": 20
        }
      ]
    },
    {
      "cell_type": "code",
      "source": [],
      "metadata": {
        "id": "oRv1RE74x-ki"
      },
      "execution_count": null,
      "outputs": []
    },
    {
      "cell_type": "code",
      "source": [],
      "metadata": {
        "id": "voH48KyKxjYp"
      },
      "execution_count": null,
      "outputs": []
    },
    {
      "cell_type": "code",
      "source": [],
      "metadata": {
        "id": "5U9UcU46xjKy"
      },
      "execution_count": null,
      "outputs": []
    }
  ]
}